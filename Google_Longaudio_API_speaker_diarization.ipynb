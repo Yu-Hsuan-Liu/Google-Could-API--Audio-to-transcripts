{
 "cells": [
  {
   "cell_type": "code",
   "execution_count": 44,
   "metadata": {},
   "outputs": [],
   "source": [
    "import os\n",
    "import AudioConverter\n",
    "import re\n",
    "import io\n",
    "from playsound import playsound"
   ]
  },
  {
   "cell_type": "markdown",
   "metadata": {},
   "source": [
    "## Step 1: Transform needed file into flac"
   ]
  },
  {
   "cell_type": "code",
   "execution_count": null,
   "metadata": {},
   "outputs": [],
   "source": [
    "!ffmpeg -i Stay_Hungry_Stay_Foolish.mp3 -c:a flac Stay_Hungry_Stay_Foolish.flac ## For the imformaiton of ffmpeg, please visit\n",
    "## https://ffmpeg.org/"
   ]
  },
  {
   "cell_type": "markdown",
   "metadata": {},
   "source": [
    "## Step 2: Upload the flac file to Google Cloud Platform storage"
   ]
  },
  {
   "cell_type": "markdown",
   "metadata": {},
   "source": [
    "## Step 3: Get Ready to get transcription of the audio from Google Cloud API"
   ]
  },
  {
   "cell_type": "code",
   "execution_count": 10,
   "metadata": {},
   "outputs": [],
   "source": [
    "os.environ[\"GOOGLE_APPLICATION_CREDENTIALS\"]=\"elegant-hope-XXX010-adXXXXXXXX80.json\" #For API keys, please visit Google Cloud Platform\n",
    "# https://cloud.google.com/docs/authentication/api-keys"
   ]
  },
  {
   "cell_type": "code",
   "execution_count": 11,
   "metadata": {},
   "outputs": [],
   "source": [
    "from google.cloud import speech_v1p1beta1 as speech\n",
    "from google.cloud.speech_v1p1beta1 import enums\n",
    "from google.cloud.speech_v1p1beta1 import types"
   ]
  },
  {
   "cell_type": "code",
   "execution_count": 12,
   "metadata": {},
   "outputs": [],
   "source": [
    "from pydub import AudioSegment\n",
    "import wave\n",
    "from google.cloud import storage"
   ]
  },
  {
   "cell_type": "code",
   "execution_count": 13,
   "metadata": {},
   "outputs": [],
   "source": [
    "\n",
    "intervals = (\n",
    "    ('weeks', 604800),  # 60 * 60 * 24 * 7\n",
    "    ('days', 86400),    # 60 * 60 * 24\n",
    "    ('hours', 3600),    # 60 * 60\n",
    "    ('minutes', 60),\n",
    "    ('seconds', 1),\n",
    "    )\n",
    "\n",
    "def display_time(seconds, granularity=2):\n",
    "    result = []\n",
    "\n",
    "    for name, count in intervals:\n",
    "        value = seconds // count\n",
    "        if value:\n",
    "            seconds -= value * count\n",
    "            if value == 1:\n",
    "                name = name.rstrip('s')\n",
    "            result.append(\"{}\".format(value))\n",
    "    return ':'.join(result[:granularity])"
   ]
  },
  {
   "cell_type": "code",
   "execution_count": 40,
   "metadata": {},
   "outputs": [],
   "source": [
    "from google.cloud import speech_v1\n",
    "\n",
    "\n",
    "def sample_long_running_recognize(storage_uri, filename, language):\n",
    "    \"\"\"\n",
    "    Transcribe long audio file from Cloud Storage using asynchronous speech\n",
    "    recognition\n",
    "\n",
    "    Args:\n",
    "      storage_uri URI for audio file in Cloud Storage, e.g. gs://[BUCKET]/[FILE]\n",
    "    \"\"\"\n",
    "    file1 = open(f\"{filename}.txt\",\"w\", encoding=\"utf-8\") \n",
    "    client = speech.SpeechClient()\n",
    "\n",
    "    # storage_uri = 'gs://cloud-samples-data/speech/brooklyn_bridge.raw'\n",
    "    enable_word_time_offsets = True\n",
    "    # Sample rate in Hertz of the audio data sent\n",
    "    sample_rate_hertz = 44100  #Sometimes we need to change this by hand according to the error messages\n",
    "\n",
    "    # The language of the supplied audio\n",
    "    language_code = language\n",
    "\n",
    "    enable_speaker_diarization = True\n",
    "    diarization_speaker_count = 1\n",
    "    \n",
    "    # Encoding of audio data sent. This sample sets this explicitly.\n",
    "    # This field is optional for FLAC and WAV audio formats.\n",
    "\n",
    "    encoding = enums.RecognitionConfig.AudioEncoding.FLAC\n",
    "    config = {\n",
    "        \"sample_rate_hertz\": sample_rate_hertz,\n",
    "        \"language_code\": language_code,\n",
    "        \"encoding\": encoding,\n",
    "        \"enable_word_time_offsets\": enable_word_time_offsets,\n",
    "        \"enable_speaker_diarization\": enable_speaker_diarization,\n",
    "        \"diarization_speaker_count\": diarization_speaker_count,\n",
    "        \"audio_channel_count\" : 2 #this config depends on how many channels your audio has.\n",
    "\n",
    "    }\n",
    " \n",
    "    #with io.open(local_file_path, \"rb\") as f:\n",
    "     #   content = f.read()\n",
    "    #audio = {\"content\": content}\n",
    " \n",
    "    audio = {\"uri\": storage_uri}\n",
    "\n",
    "    operation = client.long_running_recognize(config, audio)\n",
    "\n",
    "    print(u\"Waiting for operation to complete...\")\n",
    "    response = operation.result()\n",
    "\n",
    "    for result in response.results:\n",
    "        # First alternative is the most probable result\n",
    "\n",
    "        alternative = result.alternatives[0]\n",
    "        seconds = alternative.words[0].end_time.seconds\n",
    "        time = display_time(seconds, granularity=3)\n",
    "        print(f\"AB:{alternative.transcript}\\n\")\n",
    "        file1.write(f\"AB:{alternative.transcript}\\n\")\n",
    "\n",
    "\n",
    "    file1.close()"
   ]
  },
  {
   "cell_type": "code",
   "execution_count": 41,
   "metadata": {},
   "outputs": [
    {
     "data": {
      "text/plain": [
       "'Stay_Hungry_Stay_Foolish'"
      ]
     },
     "execution_count": 41,
     "metadata": {},
     "output_type": "execute_result"
    }
   ],
   "source": [
    "storage_uri = 'gs://toseanliu_speech_to_text/Stay_Hungry_Stay_Foolish.flac'\n",
    "a = re.sub(\"gs://toseanliu_speech_to_text/\", \"\", storage_uri)\n",
    "filename = re.sub(\".flac\", \"\", a)\n",
    "filename"
   ]
  },
  {
   "cell_type": "code",
   "execution_count": 42,
   "metadata": {},
   "outputs": [
    {
     "data": {
      "text/plain": [
       "'gs://toseanliu_speech_to_text/Stay_Hungry_Stay_Foolish.flac'"
      ]
     },
     "execution_count": 42,
     "metadata": {},
     "output_type": "execute_result"
    }
   ],
   "source": [
    "storage_uri"
   ]
  },
  {
   "cell_type": "code",
   "execution_count": 43,
   "metadata": {},
   "outputs": [
    {
     "name": "stdout",
     "output_type": "stream",
     "text": [
      "Waiting for operation to complete...\n",
      "AB:I'm honored to be with you today for your commencement from one of the finest universities in the world\n",
      "\n",
      "AB: truth be told\n",
      "\n",
      "AB: I never graduated from college and this is the closest I've ever gotten to a college graduation\n",
      "\n",
      "AB: today I want to tell you three stories from my life that's it no big deal just three stories\n",
      "\n",
      "AB: the first story is about connecting the dots\n",
      "\n",
      "AB: I dropped out of Reed College after the first six months but then stayed around as a drop in for another 18 months or so before I really quit\n",
      "\n",
      "AB: so why did I drop out\n",
      "\n",
      "AB: it started before I was born\n",
      "\n",
      "AB: my biological mother was a young unwed graduate student and she decided to put me up for adoption she felt very strongly that I should be adopted by college graduates so everything was all set for me to be adopted at Birth by a lawyer and his wife\n",
      "\n",
      "AB: accept it when I popped out they decided at the last minute that they really wanted a girl\n",
      "\n",
      "AB: so my parents who are on a waiting list got a call in the middle of the night asking we got an unexpected baby boy do you want him\n",
      "\n",
      "AB: they said of course\n",
      "\n",
      "AB: my biological mother found out later that my mother had never graduated from college and it my father had never graduated from high school she refused to sign the final adoption papers\n",
      "\n",
      "AB: she only relented a few months later when my parents promised that I would go to college this was the start in my life\n",
      "\n",
      "AB: and 17 years later I did go to college but I not eat we chose a college it was almost as expensive is Stanford\n",
      "\n",
      "AB: and all of my working-class parents savings would be spent on my college tuition after 6 months I couldn't see the value in it I have no idea what I wanted to do with my life and no idea how College was going to help me figure it out and here I was spending all the money my parents would save their entire life\n",
      "\n",
      "AB: so I decided to drop out and trusted it would all work out okay\n",
      "\n",
      "AB: it was pretty scary at the time but looking back it was one of the best decisions I ever made\n",
      "\n",
      "AB: the minute I dropped out I could stop taking the required classes that didn't interest me and begin dropping in on the ones that look far more interesting\n",
      "\n",
      "AB: it wasn't all romantic I didn't have a dorm room so I slept on the floor and Friends rooms I return Coke bottles for the $0.05 deposits to buy food with and I would walk the seven miles across town every Sunday night to get one good meal a week at the Hari Krishna Temple\n",
      "\n",
      "AB: I loved it and much of what I stumbled into by following my curiosity and intuition turned out to be Priceless later on let me give you one example\n",
      "\n",
      "AB: Reed College at that time offered perhaps the best calligraphy instruction in the country throughout the campus every poster every label on every drawer was beautifully hand calligraphed because I had dropped out and didn't have to take the normal classes I decided to take a calligraphy class to learn how to do this I learned about serif and Sans serif typefaces about vary the amount of space between different letter combinations about what makes great typography great\n",
      "\n",
      "AB: it was beautiful historical artistically subtle in a way that science can't capture and I found it fascinating\n",
      "\n",
      "AB: none of this had even a hope of any practical application in my life\n",
      "\n",
      "AB: but ten years later when we were designing the first Macintosh computer it all came back to me and we designed it all into the Mac it was the first computer with beautiful typography if I have never dropped in on that single course in college the Mac would have never had multiple typefaces or proportionally space fonts and since Windows just copy the Mac it's likely that no personal computer would have them\n",
      "\n",
      "AB: if I have never dropped out I would have never dropped in on that calligraphy class and personal computers might not have the wonderful typography that they do of course it was impossible to connect the dots looking forward when I was in college but it was very very clear looking backwards 10 years later again you can't connect the dots looking forward you can only connect them looking backwards so you have to trust that the dots will somehow connect in your future you have to trust in something your gut Destiny Life Karma whatever because believing that the dots will connect down the road will give you the confidence to follow your heart even when it leads you off the well-worn path and that will make all the difference\n",
      "\n",
      "AB: my second story is about love and loss\n",
      "\n",
      "AB: I was lucky I found what I love to do early in life was and I started Apple in my parents garage when I was 20 we worked hard and in 10 years at lagrone from Just the Two of Us in a garage into a 2 billion dollar company with over 4,000 employees we just released our finest creation the Macintosh a year earlier and I just turned 30\n",
      "\n",
      "AB: and then I got fired\n",
      "\n",
      "AB: how can you get fired from a company you started\n",
      "\n",
      "AB: well as Apple grew we hired someone who I thought was very talented to run the company with me and for the first year so things went well but there are visions of the future began to diverge and eventually we had a falling out when we did our board of directors sided with him and so a 30 I was out and very publicly out what have been the focus of my entire adult life was gone and it was devastating\n",
      "\n",
      "AB: I really didn't know what to do for a few months I felt that I'd let the previous generation of entrepreneurs down that I dropped the Baton as it was being passed me I met with David Packard and Bob noise and try to apologize for screwing up so badly\n",
      "\n",
      "AB: I was a very public failure and I even thought about running away from the valley but something slowly began to dawn on me I still loved what I did\n",
      "\n",
      "AB: the turn of events at Apple ID not change that one bit I've been rejected but I was still in love\n",
      "\n",
      "AB: and so I decided to start over\n",
      "\n",
      "AB: I didn't see it then but it turned out that getting fired from Apple was the best thing that could have ever happened to me the heaviness of being successful was replaced by the lightness of being a beginner again less sure about everything it's read me to enter one of the most creative periods of my life during the next five years I started a company named next another company named Pixar and fell in love with an amazing woman who would become my wife Pixar went on to create the world's first computer animated feature film Toy Story and is now the most successful Animation Studio in the world\n",
      "\n",
      "AB: in a remarkable turn of events Apple bought next and I return to Apple and the technology we developed it next is at the heart of Apple's current Renaissance and Lorraine and I have a wonderful family together\n",
      "\n",
      "AB: I'm pretty sure none of this would have happened if I hadn't been fired from Apple it was awful tasting medicine but I guess the patient needed it\n",
      "\n",
      "AB: sometime life sometimes life's going to hit you in the head with a brick don't lose faith I'm convinced that the only thing that kept me going was that I love what I did you've got to find what you love and that is his truth of work as it is for your lovers your work is going to fill a large part of your life and the only way to be truly satisfied is to do what you believe is great work and the only way to do great work is to love what you do if you haven't found it yet keep looking and don't settle as with all matters of the heart you'll know when you find it and like any great relationship it just gets better and better as the years roll on so keep looking don't settle\n",
      "\n",
      "AB: my third story is about death\n",
      "\n",
      "AB: when I was 17 I read a quote that went something like if you live each day as if it was your last someday you'll most certainly be right\n",
      "\n",
      "AB: it made an impression on me and since then for the past 33 years I've looked in the mirror every morning and ask myself if today were the last day of my life would I want to do what I am about to do today and whenever the answer has been no for too many days in a row I know I need to change something\n",
      "\n",
      "AB: remembering that I'll be dead soon is the most important to live ever encountered to help me make the big choices in life because almost everything all external expectations all pride of fear of embarrassment of failure these things just fall away in the face of death leaving only what is truly important remembering that you are going to die is the best way I know to avoid the Trap of thinking you have something to lose you are already naked there is no reason not to follow your heart\n",
      "\n",
      "AB: about a year ago I was diagnosed with cancer\n",
      "\n",
      "AB: I had a scan at 7:30 in the morning and it clearly showed a tumor on my pancreas I didn't even know what a pancreas was the doctors told me this was almost certainly a type of cancer that is incurable and that I should expect to live no longer than 3 to 6 months\n",
      "\n",
      "AB: my doctor advised me to go home and get my Affairs in order which is doctors code for prepare to die it means to try and tell your kids everything\n",
      "\n",
      "AB: you thought you had the next 10 years to tell him in just a few months it means to make sure everything is buttoned up so that will be as easy as possible for your family it means to say your goodbyes\n",
      "\n",
      "AB: I live with that diagnosis all day later that evening I had a biopsy where they stuck an endoscope down my throat through my stomach into my intestines put a needle into my pancreas and got a few cells from the tumor I was sedated but my wife who was there told me that when they view the cells under microscope the doctor started crying because it turned out to be a very rare form of pancreatic cancer that is curable with surgery I had the surgery and thankfully I'm fine now\n",
      "\n",
      "AB: this was the closest I've been to facing death and I hope it's the closest I get for a few more decades having lived through it I can now say this to you with a bit more certainty than one death was a useful but purely intellectual concept\n",
      "\n",
      "AB: no one wants to die even people who want to go to heaven don't want to die to get there\n",
      "\n",
      "AB: and yet death is the destination we all share no one has ever escaped it and that is as it should be because death is very likely the single best invention of life it's life's change agent it clears out the old to make way for the new\n",
      "\n",
      "AB: right now the new is you but someday not too long from now you will gradually become the old and be cleared away\n",
      "\n",
      "AB: sorry to be so dramatic but it's quite true\n",
      "\n",
      "AB: your time is limited so don't waste it living someone else's life don't be trapped by Dogma which is living with the results of other people's thinking don't let the noise of others opinions drowned out your own inner voice and most important have the courage to follow your heart and intuition they somehow already know what you truly want to become everything else is secondary\n",
      "\n",
      "AB: when I was young there was an amazing publication called the whole earth catalog which was one of the Bible's of my generation it was created by a fellow named Stewart brand not far from here in Menlo Park and he brought it to life with his poetic touch this was in the late 60s before personal computers and desktop publishing so it was all made with typewriters scissors and Polaroid cameras it was sort of like Google and paperback form 35 years before Google came along it was idealistic overflowing with meat tools and great Notions\n",
      "\n",
      "AB: Stuart and his team put out several issues of the whole earth catalog and then when it run its course they put out a final issue it was a mid-1970s and I was your age\n",
      "\n",
      "AB: on the back cover of their final issue was a photograph of an early-morning Country Road the kind you might find yourself hitchhiking on if you were so adventurous beneath it were the words stay hungry stay foolish it was their farewell message as they signed off stay hungry stay foolish and I've always wished that for myself\n",
      "\n",
      "AB: and now as you graduate to begin a new I wish that for you stay hungry stay foolish thank you all very much\n",
      "\n",
      "AB:\n",
      "\n"
     ]
    }
   ],
   "source": [
    "#zh-TW en-US zh-CN zh-HK\n",
    "sample_long_running_recognize(storage_uri, filename, \"en-US\") #The language used is en-US"
   ]
  },
  {
   "cell_type": "code",
   "execution_count": null,
   "metadata": {},
   "outputs": [],
   "source": []
  }
 ],
 "metadata": {
  "kernelspec": {
   "display_name": "Python 3",
   "language": "python",
   "name": "python3"
  },
  "language_info": {
   "codemirror_mode": {
    "name": "ipython",
    "version": 3
   },
   "file_extension": ".py",
   "mimetype": "text/x-python",
   "name": "python",
   "nbconvert_exporter": "python",
   "pygments_lexer": "ipython3",
   "version": "3.7.3"
  }
 },
 "nbformat": 4,
 "nbformat_minor": 2
}
